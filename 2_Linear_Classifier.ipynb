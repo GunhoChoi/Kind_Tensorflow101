{
 "cells": [
  {
   "cell_type": "code",
   "execution_count": 1,
   "metadata": {
    "collapsed": true
   },
   "outputs": [],
   "source": [
    "# 이번엔 텐서플로우로 간단한 Linear function을 짜보겠습니다\n",
    "# 텐서플로우와 넘파이를 불러옵니다\n",
    "\n",
    "import tensorflow as tf\n",
    "import numpy as np"
   ]
  },
  {
   "cell_type": "code",
   "execution_count": 2,
   "metadata": {
    "collapsed": true
   },
   "outputs": [],
   "source": [
    "# Linear function을 학습시키려면 다음과 같은것들이 필요합니다\n",
    "# Input, Output, Linear function, Loss function, Gradient Descent\n",
    "# 먼저 data를 임의로 설정하였습니다\n",
    "# y=w*x+b -> (4x3)*(3x1)+b=(4,1) \n",
    "\n",
    "input_data=np.array([[0,0,1],[0,1,1],[1,0,1],[1,1,1]],dtype=np.float32)\n",
    "output_data=np.array([[0,0,1,1]],dtype=np.float32).T"
   ]
  },
  {
   "cell_type": "code",
   "execution_count": 3,
   "metadata": {
    "collapsed": true
   },
   "outputs": [],
   "source": [
    "# 이번 예제에서는 데이터가 작아 input을 tf.constant로 넘겨도 되지만 \n",
    "# 실제 데이터를 사용할때는 이보다 훨씬 크고 한번에 다 돌리는것보다 \n",
    "# 주로 데이터를 batch로 분할해 사용하기 때문에 tf.placeholder를 사용합니다\n",
    "# placeholder를 사용하면 하나의 변수를 사용하여 다른 값을 전달할 수 있습니다\n",
    "\n",
    "x =tf.placeholder(dtype=np.float32,shape=[4,3])\n",
    "y_=tf.placeholder(dtype=np.float32,shape=[4,1])"
   ]
  },
  {
   "cell_type": "code",
   "execution_count": 4,
   "metadata": {
    "collapsed": true
   },
   "outputs": [],
   "source": [
    "# weight와 bias는 학습을 통해 update되는 변수이기 때문에 tf.Variable을 쓰고\n",
    "# 0~1의 값을 리턴하는 numpy의 함수를 사용해 initialize 합니다\n",
    "# 사실 initialize하는 방법에는 여러가지가 있습니다\n",
    "\n",
    "weight=tf.Variable(np.random.random_sample([3,1]),dtype=tf.float32,name='weight')\n",
    "bias=tf.Variable(np.random.random_sample([1]),dtype=tf.float32,name='bias')"
   ]
  },
  {
   "cell_type": "code",
   "execution_count": 5,
   "metadata": {
    "collapsed": true
   },
   "outputs": [],
   "source": [
    "# Linear function: y=wx+b\n",
    "# 행렬연산이기 때문에 tf.matmul(a, b, ..., name=None)을 사용합니다\n",
    "\n",
    "y=tf.matmul(x,weight)+bias"
   ]
  },
  {
   "cell_type": "code",
   "execution_count": 6,
   "metadata": {
    "collapsed": true
   },
   "outputs": [],
   "source": [
    "# Loss function을 정의합니다\n",
    "# 연산결과와 실제 값의 차이의 제곱을 평균해서 구합니다\n",
    "# Loss function을 정의하는것 역시 다양한 방법이 있습니다\n",
    "\n",
    "Loss=tf.reduce_mean(tf.square(y-y_))"
   ]
  },
  {
   "cell_type": "code",
   "execution_count": 7,
   "metadata": {
    "collapsed": true
   },
   "outputs": [],
   "source": [
    "# 모델을 학습시킬 방법을 정의합니다\n",
    "# 여기서는 기본적인 Gradient Descent Optimizer를 사용하였고 \n",
    "# learning rate는 임의로 설정하였습니다\n",
    "# 목표는 Loss의 최소화롤 설정했습니다\n",
    "\n",
    "train=tf.train.GradientDescentOptimizer(learning_rate=1e-2).minimize(Loss)"
   ]
  },
  {
   "cell_type": "code",
   "execution_count": 8,
   "metadata": {
    "collapsed": true
   },
   "outputs": [],
   "source": [
    "# 학습을 시작하기 전에 placeholder에 인자로 넘길 feed_dict과\n",
    "# 변수를 초기화하는 tf.global_variables_initializer()를 준비합니다\n",
    "\n",
    "feed_dict={x:input_data, y_:output_data}\n",
    "init=tf.global_variables_initializer()"
   ]
  },
  {
   "cell_type": "code",
   "execution_count": 10,
   "metadata": {
    "collapsed": false
   },
   "outputs": [
    {
     "name": "stdout",
     "output_type": "stream",
     "text": [
      "1.07783\n",
      "0.119688\n",
      "0.0478596\n",
      "0.0193636\n",
      "0.00792754\n",
      "0.00328415\n",
      "0.00137628\n",
      "0.000583136\n",
      "0.000249625\n",
      "0.000107863\n",
      "4.70018e-05\n",
      "2.06339e-05\n",
      "9.1176e-06\n",
      "4.05109e-06\n",
      "1.80866e-06\n",
      "8.10693e-07\n",
      "3.64598e-07\n",
      "1.64409e-07\n",
      "7.43005e-08\n",
      "3.3641e-08\n",
      "1.52601e-08\n",
      "6.9393e-09\n",
      "3.16137e-09\n",
      "1.44803e-09\n",
      "6.61177e-10\n",
      "3.09577e-10\n",
      "1.49396e-10\n",
      "7.0378e-11\n",
      "2.89676e-11\n",
      "1.67978e-11\n",
      "1.3487e-11\n",
      "1.21974e-11\n",
      "1.15531e-11\n",
      "1.13174e-11\n",
      "1.12635e-11\n",
      "1.1204e-11\n",
      "1.11032e-11\n",
      "1.1067e-11\n",
      "1.11156e-11\n",
      "1.11245e-11\n",
      "1.11734e-11\n",
      "1.0978e-11\n",
      "1.11734e-11\n",
      "1.0978e-11\n",
      "1.11734e-11\n",
      "1.0978e-11\n",
      "1.11734e-11\n",
      "1.0978e-11\n",
      "1.11734e-11\n",
      "1.0978e-11\n",
      "1.11734e-11\n",
      "1.0978e-11\n",
      "1.11734e-11\n",
      "1.0978e-11\n",
      "1.11734e-11\n",
      "1.0978e-11\n",
      "1.11734e-11\n",
      "1.0978e-11\n",
      "1.11734e-11\n",
      "1.0978e-11\n",
      "1.11734e-11\n",
      "1.0978e-11\n",
      "1.11734e-11\n",
      "1.0978e-11\n",
      "1.11734e-11\n",
      "1.0978e-11\n",
      "1.11734e-11\n",
      "1.0978e-11\n",
      "1.11734e-11\n",
      "1.0978e-11\n",
      "1.11734e-11\n",
      "1.0978e-11\n",
      "1.11734e-11\n",
      "1.0978e-11\n",
      "1.11734e-11\n",
      "1.0978e-11\n",
      "1.11734e-11\n",
      "1.0978e-11\n",
      "1.11734e-11\n",
      "1.0978e-11\n",
      "1.11734e-11\n",
      "1.0978e-11\n",
      "1.11734e-11\n",
      "1.0978e-11\n",
      "1.11734e-11\n",
      "1.0978e-11\n",
      "1.11734e-11\n",
      "1.0978e-11\n",
      "1.11734e-11\n",
      "1.0978e-11\n",
      "1.11734e-11\n",
      "1.0978e-11\n",
      "1.11734e-11\n",
      "1.0978e-11\n",
      "1.11734e-11\n",
      "1.0978e-11\n",
      "1.11734e-11\n",
      "1.0978e-11\n",
      "1.11734e-11\n",
      "1.0978e-11\n",
      "1.11734e-11\n",
      "[[  3.97861004e-06]\n",
      " [  3.29315662e-06]\n",
      " [  9.99997377e-01]\n",
      " [  9.99996662e-01]]\n"
     ]
    }
   ],
   "source": [
    "# Session을 열고 variable initialize를 한후에 \n",
    "# 원하는 횟수만큼 학습을 시킵니다\n",
    "# iteration마다 loss가 감소하는지 보기위해 값을 출력하였고\n",
    "# 학습이 끝난뒤에 최종 Loss는 얼마이고 결과값은 어떻게 나오는지 출력합니다\n",
    "\n",
    "with tf.Session() as sess:\n",
    "    sess.run(init)\n",
    "    for i in range(10000):\n",
    "        _,l=sess.run([train,Loss],feed_dict=feed_dict)\n",
    "        if i%100==0:\n",
    "            print(l)\n",
    "    print(sess.run(Loss,feed_dict=feed_dict))\n",
    "    print(sess.run(y,feed_dict=feed_dict))"
   ]
  }
 ],
 "metadata": {
  "celltoolbar": "Raw Cell Format",
  "kernelspec": {
   "display_name": "Python 3",
   "language": "python",
   "name": "python3"
  },
  "language_info": {
   "codemirror_mode": {
    "name": "ipython",
    "version": 3
   },
   "file_extension": ".py",
   "mimetype": "text/x-python",
   "name": "python",
   "nbconvert_exporter": "python",
   "pygments_lexer": "ipython3",
   "version": "3.5.2"
  }
 },
 "nbformat": 4,
 "nbformat_minor": 1
}
