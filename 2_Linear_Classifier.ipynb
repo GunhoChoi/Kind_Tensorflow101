{
 "cells": [
  {
   "cell_type": "code",
   "execution_count": 1,
   "metadata": {
    "collapsed": true
   },
   "outputs": [],
   "source": [
    "# 이번엔 텐서플로우로 간단한 Linear function을 짜보겠습니다\n",
    "# 텐서플로우와 넘파이를 불러옵니다\n",
    "\n",
    "import tensorflow as tf\n",
    "import numpy as np"
   ]
  },
  {
   "cell_type": "code",
   "execution_count": 2,
   "metadata": {
    "collapsed": true
   },
   "outputs": [],
   "source": [
    "# Linear function을 학습시키려면 다음과 같은것들이 필요합니다\n",
    "# Input, Output, Linear function, Loss function, Gradient Descent\n",
    "# 먼저 data를 임의로 설정하였습니다\n",
    "# y=w*x+b -> (4x3)*(3x1)+b=(4,1) \n",
    "\n",
    "input_data=np.array([[0,0,1],[0,1,1],[1,0,1],[1,1,1]],dtype=np.float32)\n",
    "output_data=np.array([[0,0,1,1]],dtype=np.float32).T"
   ]
  },
  {
   "cell_type": "code",
   "execution_count": 3,
   "metadata": {
    "collapsed": true
   },
   "outputs": [],
   "source": [
    "# 이번 예제에서는 데이터가 작아 input을 tf.constant로 넘겨도 되지만 \n",
    "# 실제 데이터를 사용할때는 이보다 훨씬 크고 한번에 다 돌리는것보다 \n",
    "# 주로 데이터를 batch로 분할해 사용하기 때문에 tf.placeholder를 사용합니다\n",
    "# placeholder를 사용하면 하나의 변수를 사용하여 다른 값을 전달할 수 있습니다\n",
    "\n",
    "x =tf.placeholder(dtype=np.float32,shape=[4,3])\n",
    "y_=tf.placeholder(dtype=np.float32,shape=[4,1])"
   ]
  },
  {
   "cell_type": "code",
   "execution_count": 4,
   "metadata": {
    "collapsed": true
   },
   "outputs": [],
   "source": [
    "# weight와 bias는 학습을 통해 update되는 변수이기 때문에 tf.Variable을 쓰고\n",
    "# 0~1의 값을 리턴하는 numpy의 함수를 사용해 initialize 합니다\n",
    "# 사실 initialize하는 방법에는 여러가지가 있습니다\n",
    "\n",
    "weight=tf.Variable(np.random.random_sample([3,1]),dtype=tf.float32,name='weight')\n",
    "bias=tf.Variable(np.random.random_sample([1]),dtype=tf.float32,name='bias')"
   ]
  },
  {
   "cell_type": "code",
   "execution_count": 5,
   "metadata": {
    "collapsed": true
   },
   "outputs": [],
   "source": [
    "# Linear function: y=wx+b\n",
    "# 행렬연산이기 때문에 tf.matmul(a, b, ..., name=None)을 사용합니다\n",
    "\n",
    "y=tf.matmul(x,weight)+bias"
   ]
  },
  {
   "cell_type": "code",
   "execution_count": 6,
   "metadata": {
    "collapsed": true
   },
   "outputs": [],
   "source": [
    "# Loss function을 정의합니다\n",
    "# 연산결과와 실제 값의 차이의 제곱을 평균해서 구합니다(l2_loss)\n",
    "# Loss function을 정의하는것 역시 다양한 방법이 있습니다\n",
    "\n",
    "Loss=tf.reduce_mean(tf.square(y-y_))"
   ]
  },
  {
   "cell_type": "code",
   "execution_count": 7,
   "metadata": {
    "collapsed": true
   },
   "outputs": [],
   "source": [
    "# 모델을 학습시킬 방법을 정의합니다\n",
    "# 여기서는 기본적인 Gradient Descent Optimizer를 사용하였고 \n",
    "# learning rate는 임의로 설정하였습니다\n",
    "# 목표는 Loss의 최소화롤 설정했습니다\n",
    "\n",
    "train=tf.train.GradientDescentOptimizer(learning_rate=1e-2).minimize(Loss)"
   ]
  },
  {
   "cell_type": "code",
   "execution_count": 8,
   "metadata": {
    "collapsed": true
   },
   "outputs": [],
   "source": [
    "# 학습을 시작하기 전에 placeholder에 인자로 넘길 feed_dict과\n",
    "# 변수를 초기화하는 tf.global_variables_initializer()를 준비합니다\n",
    "\n",
    "feed_dict={x:input_data, y_:output_data}\n",
    "init=tf.global_variables_initializer()"
   ]
  },
  {
   "cell_type": "code",
   "execution_count": 9,
   "metadata": {
    "collapsed": false
   },
   "outputs": [
    {
     "name": "stdout",
     "output_type": "stream",
     "text": [
      "0.242351\n",
      "0.0043639\n",
      "0.00196072\n",
      "0.000884567\n",
      "0.000399926\n",
      "0.000181131\n",
      "8.21526e-05\n",
      "3.73043e-05\n",
      "1.69554e-05\n",
      "7.7123e-06\n",
      "3.50998e-06\n",
      "1.5983e-06\n",
      "7.28136e-07\n",
      "3.31893e-07\n",
      "1.513e-07\n",
      "6.8994e-08\n",
      "3.14637e-08\n",
      "1.43526e-08\n",
      "6.55614e-09\n",
      "2.99826e-09\n",
      "1.36463e-09\n",
      "6.29217e-10\n",
      "2.87572e-10\n",
      "1.41995e-10\n",
      "6.4783e-11\n",
      "2.80036e-11\n",
      "1.74274e-11\n",
      "1.23567e-11\n",
      "1.09468e-11\n",
      "1.03786e-11\n",
      "9.91843e-12\n",
      "9.95583e-12\n",
      "9.92487e-12\n",
      "9.75749e-12\n",
      "9.92657e-12\n",
      "9.93423e-12\n",
      "9.95749e-12\n",
      "9.98086e-12\n",
      "9.99259e-12\n",
      "9.99259e-12\n",
      "1.00043e-11\n",
      "1.00043e-11\n",
      "1.00043e-11\n",
      "1.00043e-11\n",
      "1.00043e-11\n",
      "1.00043e-11\n",
      "1.00043e-11\n",
      "1.00043e-11\n",
      "1.00043e-11\n",
      "1.00043e-11\n",
      "1.00043e-11\n",
      "1.00043e-11\n",
      "1.00043e-11\n",
      "1.00043e-11\n",
      "1.00043e-11\n",
      "1.00043e-11\n",
      "1.00043e-11\n",
      "1.00043e-11\n",
      "1.00043e-11\n",
      "1.00043e-11\n",
      "1.00043e-11\n",
      "1.00043e-11\n",
      "1.00043e-11\n",
      "1.00043e-11\n",
      "1.00043e-11\n",
      "1.00043e-11\n",
      "1.00043e-11\n",
      "1.00043e-11\n",
      "1.00043e-11\n",
      "1.00043e-11\n",
      "1.00043e-11\n",
      "1.00043e-11\n",
      "1.00043e-11\n",
      "1.00043e-11\n",
      "1.00043e-11\n",
      "1.00043e-11\n",
      "1.00043e-11\n",
      "1.00043e-11\n",
      "1.00043e-11\n",
      "1.00043e-11\n",
      "1.00043e-11\n",
      "1.00043e-11\n",
      "1.00043e-11\n",
      "1.00043e-11\n",
      "1.00043e-11\n",
      "1.00043e-11\n",
      "1.00043e-11\n",
      "1.00043e-11\n",
      "1.00043e-11\n",
      "1.00043e-11\n",
      "1.00043e-11\n",
      "1.00043e-11\n",
      "1.00043e-11\n",
      "1.00043e-11\n",
      "1.00043e-11\n",
      "1.00043e-11\n",
      "1.00043e-11\n",
      "1.00043e-11\n",
      "1.00043e-11\n",
      "1.00043e-11\n",
      "Tensor(\"Mean:0\", shape=(), dtype=float32)\n",
      "1.00043e-11\n",
      "[[  3.49432230e-06]\n",
      " [  3.15904617e-06]\n",
      " [  9.99997199e-01]\n",
      " [  9.99996841e-01]]\n"
     ]
    }
   ],
   "source": [
    "# Session을 열고 variable initialize를 한후에 \n",
    "# 원하는 횟수만큼 학습을 시킵니다\n",
    "# iteration마다 loss가 감소하는지 보기위해 값을 출력하였고\n",
    "# 학습이 끝난뒤에 최종 Loss는 얼마이고 결과값은 어떻게 나오는지 출력합니다\n",
    "# 값을 확인할때도 sess.run()을 프린트해야 나오고 그냥 프린트하면 값이 나오지 않습니다\n",
    "\n",
    "with tf.Session() as sess:\n",
    "    sess.run(init)\n",
    "    for i in range(10000):\n",
    "        _,l=sess.run([train,Loss],feed_dict=feed_dict)\n",
    "        if i%100==0:\n",
    "            print(l)\n",
    "    print(Loss)\n",
    "    print(sess.run(Loss,feed_dict=feed_dict))\n",
    "    print(sess.run(y,feed_dict=feed_dict))"
   ]
  }
 ],
 "metadata": {
  "celltoolbar": "Raw Cell Format",
  "kernelspec": {
   "display_name": "Python 3",
   "language": "python",
   "name": "python3"
  },
  "language_info": {
   "codemirror_mode": {
    "name": "ipython",
    "version": 3
   },
   "file_extension": ".py",
   "mimetype": "text/x-python",
   "name": "python",
   "nbconvert_exporter": "python",
   "pygments_lexer": "ipython3",
   "version": "3.5.2"
  }
 },
 "nbformat": 4,
 "nbformat_minor": 1
}
